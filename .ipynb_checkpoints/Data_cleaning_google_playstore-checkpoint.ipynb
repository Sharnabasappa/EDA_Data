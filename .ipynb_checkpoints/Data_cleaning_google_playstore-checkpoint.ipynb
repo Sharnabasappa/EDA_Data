{
 "cells": [
  {
   "cell_type": "raw",
   "id": "df39ec1a",
   "metadata": {},
   "source": [
    "ML pipline\n",
    "1, data gathering/ collection\n",
    "2, EDA\n",
    "3, preeprocessing : featureee engg(FE)\n",
    "4, model building: ML algorithm: 1, supervised and 2, unsupervised\n",
    "5, Evaluation or validation of model"
   ]
  },
  {
   "cell_type": "raw",
   "id": "76011eaf",
   "metadata": {},
   "source": [
    "1, EDA:\n",
    "    profile of data\n",
    "    statical analysis\n",
    "    graph base and analysis"
   ]
  },
  {
   "cell_type": "raw",
   "id": "2ff1b73f",
   "metadata": {},
   "source": [
    "2, FE:\n",
    "    missing value  : Null\n",
    "    outliers:  Extreme values\n",
    "    encoding: cat into numeric\n",
    "    scaling: within certain range compress the data\n",
    "    handeling imbalanced data: Imbalance count\n",
    "    transformation\n",
    "    feature selection: n no of feature select 50 feature or subset of feature\n",
    "    dimention reduction: converting/reducing 2 columns into one column"
   ]
  },
  {
   "cell_type": "code",
   "execution_count": 1,
   "id": "5e708c6c",
   "metadata": {},
   "outputs": [],
   "source": [
    "\n",
    "import pandas as pd\n",
    "import numpy as np\n",
    "import matplotlib.pyplot as plt\n",
    "import seaborn as sns\n",
    "import warnings\n",
    "                                                                                                                                                                                                                                                                                                                                                                                                                                                                                                                                                                                                                                                                                                                                                                                                                                                                                                                                                                                                                                                                                                                                                                                                                                                                                                                                                                                                                                                                                                                                                                                                                                                                                                                                                                                                                                                                                                                                                                                                                                                                                                                                                                                                                                                                                                                                                                                                                        \n",
    "warnings.filterwarnings(\"ignore\")\n",
    "\n",
    "%matplotlib inline\n"
   ]
  },
  {
   "cell_type": "code",
   "execution_count": 5,
   "id": "46eb774b",
   "metadata": {},
   "outputs": [],
   "source": [
    "df=pd.read_csv(\"googleplaystore.csv\")"
   ]
  },
  {
   "cell_type": "code",
   "execution_count": null,
   "id": "9e5654ad",
   "metadata": {},
   "outputs": [],
   "source": []
  },
  {
   "cell_type": "code",
   "execution_count": null,
   "id": "9a5d095f",
   "metadata": {},
   "outputs": [],
   "source": [
    "df[df['Reviews'].str.isnumeric()]"
   ]
  },
  {
   "cell_type": "code",
   "execution_count": null,
   "id": "2fe72c2a",
   "metadata": {},
   "outputs": [],
   "source": [
    "df_copy=df.copy()"
   ]
  },
  {
   "cell_type": "code",
   "execution_count": null,
   "id": "883ca38c",
   "metadata": {},
   "outputs": [],
   "source": [
    "df_copy=df_copy.drop(df_copy.index[10472])"
   ]
  },
  {
   "cell_type": "code",
   "execution_count": null,
   "id": "8722efc3",
   "metadata": {},
   "outputs": [],
   "source": [
    "df_copy[\"Reviews\"]=df_copy[\"Reviews\"].astype('int')  # datatype changed to int"
   ]
  },
  {
   "cell_type": "code",
   "execution_count": null,
   "id": "99e8e92a",
   "metadata": {},
   "outputs": [],
   "source": []
  },
  {
   "cell_type": "code",
   "execution_count": null,
   "id": "3545d0e9",
   "metadata": {},
   "outputs": [],
   "source": []
  }
 ],
 "metadata": {
  "kernelspec": {
   "display_name": "Python 3 (ipykernel)",
   "language": "python",
   "name": "python3"
  },
  "language_info": {
   "codemirror_mode": {
    "name": "ipython",
    "version": 3
   },
   "file_extension": ".py",
   "mimetype": "text/x-python",
   "name": "python",
   "nbconvert_exporter": "python",
   "pygments_lexer": "ipython3",
   "version": "3.9.7"
  }
 },
 "nbformat": 4,
 "nbformat_minor": 5
}
